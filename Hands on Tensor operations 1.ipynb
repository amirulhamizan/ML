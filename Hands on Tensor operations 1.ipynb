{
 "cells": [
  {
   "cell_type": "code",
   "execution_count": 2,
   "id": "26881d5a",
   "metadata": {},
   "outputs": [],
   "source": [
    "import torch"
   ]
  },
  {
   "cell_type": "code",
   "execution_count": 3,
   "id": "1e299465",
   "metadata": {},
   "outputs": [
    {
     "name": "stdout",
     "output_type": "stream",
     "text": [
      "tensor([1.6962e+19])\n"
     ]
    }
   ],
   "source": [
    "# torch.empty(size): uninitiallized\n",
    "x = torch.empty(1) # scalar\n",
    "print(x)"
   ]
  },
  {
   "cell_type": "code",
   "execution_count": 4,
   "id": "6607a09c",
   "metadata": {},
   "outputs": [
    {
     "name": "stdout",
     "output_type": "stream",
     "text": [
      "tensor([3.8750e-29, 4.0441e-41, 3.8750e-29])\n"
     ]
    }
   ],
   "source": [
    "x = torch.empty(3) # vector, 1D\n",
    "print(x)"
   ]
  },
  {
   "cell_type": "code",
   "execution_count": 5,
   "id": "f64cb63d",
   "metadata": {},
   "outputs": [
    {
     "name": "stdout",
     "output_type": "stream",
     "text": [
      "tensor([[4.0737e+05, 3.5544e-41, 4.0737e+05],\n",
      "        [3.5544e-41, 1.1210e-43, 0.0000e+00]])\n"
     ]
    }
   ],
   "source": [
    "x = torch.empty(2,3) # matrix, 2D\n",
    "print(x)"
   ]
  },
  {
   "cell_type": "code",
   "execution_count": 6,
   "id": "5d6aa039",
   "metadata": {},
   "outputs": [
    {
     "name": "stdout",
     "output_type": "stream",
     "text": [
      "tensor([[[1.0235e+08, 3.5544e-41, 1.0240e+08],\n",
      "         [3.5544e-41, 8.9683e-44, 0.0000e+00]],\n",
      "\n",
      "        [[1.1210e-43, 0.0000e+00, 0.0000e+00],\n",
      "         [0.0000e+00, 3.8750e-29, 4.0441e-41]]])\n"
     ]
    }
   ],
   "source": [
    "x = torch.empty(2,2,3) # tensor, 3 dimensions\n",
    "print(x)"
   ]
  },
  {
   "cell_type": "code",
   "execution_count": 7,
   "id": "0e0b80f7",
   "metadata": {},
   "outputs": [
    {
     "name": "stdout",
     "output_type": "stream",
     "text": [
      "tensor([[[[ 3.8750e-29,  4.0441e-41,  1.6988e+08],\n",
      "          [ 3.5544e-41,  4.1302e+05,  3.5544e-41]],\n",
      "\n",
      "         [[ 0.0000e+00,  0.0000e+00,  0.0000e+00],\n",
      "          [ 0.0000e+00,  1.0234e+08,  3.5544e-41]]],\n",
      "\n",
      "\n",
      "        [[[ 2.2343e+07,  3.5544e-41, -2.6042e+05],\n",
      "          [ 4.0440e-41,  0.0000e+00,  0.0000e+00]],\n",
      "\n",
      "         [[ 0.0000e+00,  0.0000e+00,  0.0000e+00],\n",
      "          [ 0.0000e+00,  0.0000e+00,  0.0000e+00]]]])\n"
     ]
    }
   ],
   "source": [
    "x = torch.empty(2,2,2,3) # tensor, 4 dimensions\n",
    "print(x)"
   ]
  },
  {
   "cell_type": "code",
   "execution_count": 8,
   "id": "4db45b54",
   "metadata": {},
   "outputs": [
    {
     "name": "stdout",
     "output_type": "stream",
     "text": [
      "tensor([[0.3878, 0.0938, 0.8267],\n",
      "        [0.1032, 0.8981, 0.9873],\n",
      "        [0.5187, 0.6385, 0.2863],\n",
      "        [0.7965, 0.3645, 0.9174],\n",
      "        [0.7055, 0.7584, 0.3781]])\n"
     ]
    }
   ],
   "source": [
    "# torch.rand(size): random numbers [0, 1]\n",
    "x = torch.rand(5, 3)\n",
    "print(x)"
   ]
  },
  {
   "cell_type": "code",
   "execution_count": 9,
   "id": "724043b1",
   "metadata": {},
   "outputs": [
    {
     "name": "stdout",
     "output_type": "stream",
     "text": [
      "tensor([[0., 0., 0.],\n",
      "        [0., 0., 0.],\n",
      "        [0., 0., 0.],\n",
      "        [0., 0., 0.],\n",
      "        [0., 0., 0.]])\n"
     ]
    }
   ],
   "source": [
    "# torch.zeros(size), fill with 0\n",
    "x = torch.zeros(5, 3)\n",
    "print(x)"
   ]
  },
  {
   "cell_type": "code",
   "execution_count": 10,
   "id": "95d778eb",
   "metadata": {},
   "outputs": [
    {
     "name": "stdout",
     "output_type": "stream",
     "text": [
      "torch.Size([5, 3])\n"
     ]
    }
   ],
   "source": [
    "# check size\n",
    "print(x.size())"
   ]
  },
  {
   "cell_type": "code",
   "execution_count": 11,
   "id": "340cd45f",
   "metadata": {},
   "outputs": [
    {
     "name": "stdout",
     "output_type": "stream",
     "text": [
      "torch.float32\n"
     ]
    }
   ],
   "source": [
    "# check data type\n",
    "print(x.dtype)"
   ]
  },
  {
   "cell_type": "code",
   "execution_count": 12,
   "id": "1b6457ee",
   "metadata": {},
   "outputs": [
    {
     "name": "stdout",
     "output_type": "stream",
     "text": [
      "tensor([[0., 0., 0.],\n",
      "        [0., 0., 0.],\n",
      "        [0., 0., 0.],\n",
      "        [0., 0., 0.],\n",
      "        [0., 0., 0.]], dtype=torch.float16)\n"
     ]
    }
   ],
   "source": [
    "# specify types, float32 default\n",
    "x = torch.zeros(5, 3, dtype=torch.float16)\n",
    "print(x)"
   ]
  },
  {
   "cell_type": "code",
   "execution_count": 13,
   "id": "8a1140c0",
   "metadata": {},
   "outputs": [
    {
     "name": "stdout",
     "output_type": "stream",
     "text": [
      "torch.float16\n"
     ]
    }
   ],
   "source": [
    "# check type\n",
    "print(x.dtype)"
   ]
  },
  {
   "cell_type": "code",
   "execution_count": 14,
   "id": "cb4bf1da",
   "metadata": {},
   "outputs": [
    {
     "name": "stdout",
     "output_type": "stream",
     "text": [
      "torch.Size([2])\n"
     ]
    }
   ],
   "source": [
    "# construct from data\n",
    "x = torch.tensor([5.5, 3])\n",
    "print(x.size())"
   ]
  },
  {
   "cell_type": "code",
   "execution_count": 15,
   "id": "fe719c83",
   "metadata": {},
   "outputs": [
    {
     "name": "stdout",
     "output_type": "stream",
     "text": [
      "tensor([5.5000, 3.0000], requires_grad=True)\n"
     ]
    }
   ],
   "source": [
    "# requires_grad argument\n",
    "x = torch.tensor([5.5, 3], requires_grad=True)\n",
    "print (x)"
   ]
  },
  {
   "cell_type": "code",
   "execution_count": 16,
   "id": "b57e5998",
   "metadata": {},
   "outputs": [
    {
     "name": "stdout",
     "output_type": "stream",
     "text": [
      "Value of z: 17.0\n",
      "Gradient for x (requires_grad=True): tensor([1., 1.])\n",
      "Gradient for y (requires_grad=False): None\n"
     ]
    }
   ],
   "source": [
    "# Define tensors\n",
    "x = torch.tensor([5.5, 3], requires_grad=True)  # Tensor with gradient tracking\n",
    "y = torch.tensor([5.5, 3], requires_grad=False) # Tensor without gradient tracking\n",
    "\n",
    "# Perform an operation\n",
    "z = x.sum() + y.sum()\n",
    "print(\"Value of z:\", z.item())\n",
    "\n",
    "# Backward pass to compute gradients\n",
    "z.backward()\n",
    "\n",
    "# Print gradients\n",
    "print(\"Gradient for x (requires_grad=True):\", x.grad)\n",
    "print(\"Gradient for y (requires_grad=False):\", y.grad)"
   ]
  },
  {
   "cell_type": "code",
   "execution_count": 17,
   "id": "e6ee985a",
   "metadata": {},
   "outputs": [
    {
     "name": "stdout",
     "output_type": "stream",
     "text": [
      "tensor([[0.6743, 0.8453],\n",
      "        [0.5836, 0.9152]])\n",
      "tensor([[0.2426, 0.9725],\n",
      "        [0.7362, 0.9908]])\n",
      "tensor([[0.9169, 1.8178],\n",
      "        [1.3198, 1.9060]])\n"
     ]
    }
   ],
   "source": [
    "# Operations on Tensors\n",
    "y = torch.rand(2, 2)\n",
    "x = torch.rand(2, 2)\n",
    "print (x)\n",
    "print (y)\n",
    "# elementwise addition\n",
    "z = x + y\n",
    "# torch.add(x,y) \n",
    "print (z)"
   ]
  },
  {
   "cell_type": "code",
   "execution_count": 18,
   "id": "ff695b96",
   "metadata": {},
   "outputs": [
    {
     "name": "stdout",
     "output_type": "stream",
     "text": [
      "tensor([[0.3717, 0.7505],\n",
      "        [0.0850, 0.1606]])\n",
      "tensor([[0.3243, 0.3959],\n",
      "        [0.3747, 0.5323]])\n",
      "tensor([[ 0.0474,  0.3546],\n",
      "        [-0.2897, -0.3718]])\n"
     ]
    }
   ],
   "source": [
    "# subtraction\n",
    "y = torch.rand(2, 2)\n",
    "x = torch.rand(2, 2)\n",
    "print (x)\n",
    "print (y)\n",
    "z = x - y\n",
    "z = torch.sub(x, y)\n",
    "print (z)"
   ]
  },
  {
   "cell_type": "code",
   "execution_count": 19,
   "id": "4c2015d3",
   "metadata": {},
   "outputs": [
    {
     "name": "stdout",
     "output_type": "stream",
     "text": [
      "tensor([[0.1246, 0.9178],\n",
      "        [0.5772, 0.4089]])\n",
      "tensor([[0.8765, 0.2313],\n",
      "        [0.0834, 0.6504]])\n",
      "tensor([[0.1092, 0.2123],\n",
      "        [0.0481, 0.2660]])\n"
     ]
    }
   ],
   "source": [
    "# multiplication\n",
    "y = torch.rand(2, 2)\n",
    "x = torch.rand(2, 2)\n",
    "print (x)\n",
    "print (y)\n",
    "z = x * y\n",
    "z = torch.mul(x,y)\n",
    "print (z)\n"
   ]
  },
  {
   "cell_type": "code",
   "execution_count": 20,
   "id": "38d01bf3",
   "metadata": {},
   "outputs": [
    {
     "name": "stdout",
     "output_type": "stream",
     "text": [
      "tensor([[0.9882, 0.3798],\n",
      "        [0.8172, 0.3676]])\n",
      "tensor([[0.3619, 0.1912],\n",
      "        [0.8532, 0.4840]])\n",
      "tensor([[2.7306, 1.9865],\n",
      "        [0.9578, 0.7596]])\n"
     ]
    }
   ],
   "source": [
    "# division\n",
    "y = torch.rand(2, 2)\n",
    "x = torch.rand(2, 2)\n",
    "print (x)\n",
    "print (y)\n",
    "z1 = x / y\n",
    "z1 = torch.div(x,y)\n",
    "print(z1)"
   ]
  },
  {
   "cell_type": "code",
   "execution_count": 21,
   "id": "4458f271",
   "metadata": {},
   "outputs": [
    {
     "name": "stdout",
     "output_type": "stream",
     "text": [
      "Slicing\n",
      "tensor([[0.4558, 0.2018, 0.4228],\n",
      "        [0.1349, 0.0615, 0.2798],\n",
      "        [0.3531, 0.2607, 0.5431],\n",
      "        [0.4615, 0.3661, 0.1340],\n",
      "        [0.6714, 0.1015, 0.1543]])\n",
      "tensor([0.4558, 0.1349, 0.3531, 0.4615, 0.6714])\n",
      "tensor([0.1349, 0.0615, 0.2798])\n",
      "tensor(0.0615)\n",
      "0.06145131587982178\n"
     ]
    }
   ],
   "source": [
    "#Slicing\n",
    "x = torch.rand(5,3)\n",
    "print(\"Slicing\")\n",
    "print(x)\n",
    "print(x[:, 0]) # all rows, column 0\n",
    "print(x[1, :]) # row 1, all columns\n",
    "print(x[1,1]) # element at 1, 1\n",
    "\n",
    "# Get the actual value if only 1 element in your tensor\n",
    "print(x[1,1].item())"
   ]
  },
  {
   "cell_type": "code",
   "execution_count": 22,
   "id": "5a89e5b9",
   "metadata": {},
   "outputs": [
    {
     "name": "stdout",
     "output_type": "stream",
     "text": [
      "tensor([[-0.6619,  0.5882, -0.8814,  0.9515],\n",
      "        [-0.4185,  0.1198, -0.6695, -0.0303],\n",
      "        [-0.1350,  0.8704,  1.2312,  2.2873],\n",
      "        [ 0.2247,  0.9839,  0.4947, -0.6605]])\n",
      "tensor([-0.6619,  0.5882, -0.8814,  0.9515, -0.4185,  0.1198, -0.6695, -0.0303,\n",
      "        -0.1350,  0.8704,  1.2312,  2.2873,  0.2247,  0.9839,  0.4947, -0.6605])\n",
      "tensor([[-0.6619,  0.5882, -0.8814,  0.9515, -0.4185,  0.1198, -0.6695, -0.0303],\n",
      "        [-0.1350,  0.8704,  1.2312,  2.2873,  0.2247,  0.9839,  0.4947, -0.6605]])\n",
      "torch.Size([4, 4]) torch.Size([16]) torch.Size([2, 8])\n"
     ]
    }
   ],
   "source": [
    "# Reshape with torch.view()\n",
    "x = torch.randn(4, 4)\n",
    "y = x.view(16)\n",
    "z = x.view(-1, 8)  # the size -1 is inferred from other dimensions\n",
    "print(x)\n",
    "print(y)\n",
    "print(z)\n",
    "# if -1 it pytorch will automatically determine the necessary size\n",
    "print(x.size(), y.size(), z.size())"
   ]
  },
  {
   "cell_type": "code",
   "execution_count": 23,
   "id": "dc6e0972",
   "metadata": {},
   "outputs": [
    {
     "name": "stdout",
     "output_type": "stream",
     "text": [
      "tensor([1., 1., 1., 1., 1.])\n",
      "[1. 1. 1. 1. 1.]\n",
      "<class 'numpy.ndarray'>\n",
      "tensor([2., 2., 2., 2., 2.])\n",
      "[2. 2. 2. 2. 2.]\n"
     ]
    }
   ],
   "source": [
    "# Numpy\n",
    "a = torch.ones(5)\n",
    "print(a)\n",
    "\n",
    "b = a.numpy()\n",
    "print(b)\n",
    "print(type(b))\n",
    "\n",
    "# If the Tensor is on the CPU, they will share the same memory location\n",
    "a.add_(1)\n",
    "print(a)\n",
    "print(b)"
   ]
  },
  {
   "cell_type": "code",
   "execution_count": 24,
   "id": "cb4d415c",
   "metadata": {},
   "outputs": [
    {
     "name": "stdout",
     "output_type": "stream",
     "text": [
      "Numpy to Torch\n",
      "[1. 1. 1. 1. 1.]\n",
      "tensor([1., 1., 1., 1., 1.], dtype=torch.float64)\n"
     ]
    }
   ],
   "source": [
    "# Numpy to Torch\n",
    "print(\"Numpy to Torch\")\n",
    "import numpy as np\n",
    "a = np.ones(5)\n",
    "b = torch.from_numpy(a)\n",
    "print(a)\n",
    "print(b)\n"
   ]
  },
  {
   "cell_type": "code",
   "execution_count": 25,
   "id": "92eb3b05",
   "metadata": {},
   "outputs": [
    {
     "name": "stdout",
     "output_type": "stream",
     "text": [
      "[2. 2. 2. 2. 2.]\n",
      "tensor([2., 2., 2., 2., 2.], dtype=torch.float64)\n"
     ]
    }
   ],
   "source": [
    "#They also share same memory\n",
    "a += 1\n",
    "print(a)\n",
    "print(b)"
   ]
  },
  {
   "cell_type": "code",
   "execution_count": 26,
   "id": "35cfb478",
   "metadata": {},
   "outputs": [
    {
     "name": "stdout",
     "output_type": "stream",
     "text": [
      "Autograd Package\n",
      "tensor(12., grad_fn=<SumBackward0>)\n",
      "tensor([3., 3., 3., 3.])\n",
      "tensor(8.4000, grad_fn=<SumBackward0>)\n",
      "tensor([3., 3., 3., 3.])\n",
      "tensor(4.8000, grad_fn=<SumBackward0>)\n",
      "tensor([3., 3., 3., 3.])\n",
      "tensor([0.1000, 0.1000, 0.1000, 0.1000], requires_grad=True)\n",
      "tensor(4.8000, grad_fn=<SumBackward0>)\n"
     ]
    }
   ],
   "source": [
    "# The Autograd Package\n",
    "print(\"Autograd Package\")\n",
    "weights = torch.ones(4, requires_grad=True)\n",
    "\n",
    "for epoch in range(3):\n",
    "    # just a dummy example\n",
    "    model_output = (weights*3).sum()\n",
    "    print(model_output)\n",
    "    \n",
    "    model_output.backward()\n",
    "    print(weights.grad)\n",
    "\n",
    "    with torch.no_grad():\n",
    "        weights -= 0.1 * weights.grad\n",
    "        \n",
    "\n",
    "    # this is important! It affects the final weights & output\n",
    "    weights.grad.zero_()\n",
    "\n",
    "print(weights)\n",
    "print(model_output)"
   ]
  }
 ],
 "metadata": {
  "kernelspec": {
   "display_name": "Python 3",
   "language": "python",
   "name": "python3"
  },
  "language_info": {
   "codemirror_mode": {
    "name": "ipython",
    "version": 3
   },
   "file_extension": ".py",
   "mimetype": "text/x-python",
   "name": "python",
   "nbconvert_exporter": "python",
   "pygments_lexer": "ipython3",
   "version": "3.12.1"
  }
 },
 "nbformat": 4,
 "nbformat_minor": 5
}
