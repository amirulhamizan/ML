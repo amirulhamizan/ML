{
 "cells": [
  {
   "cell_type": "code",
   "execution_count": 1,
   "id": "26881d5a",
   "metadata": {},
   "outputs": [],
   "source": [
    "import torch"
   ]
  },
  {
   "cell_type": "code",
   "execution_count": 2,
   "id": "1e299465",
   "metadata": {},
   "outputs": [
    {
     "name": "stdout",
     "output_type": "stream",
     "text": [
      "tensor([0.])\n"
     ]
    }
   ],
   "source": [
    "# torch.empty(size): uninitiallized\n",
    "x = torch.empty(1) # scalar\n",
    "print(x)"
   ]
  },
  {
   "cell_type": "code",
   "execution_count": 3,
   "id": "6607a09c",
   "metadata": {},
   "outputs": [
    {
     "name": "stdout",
     "output_type": "stream",
     "text": [
      "tensor([0., 0., 0.])\n"
     ]
    }
   ],
   "source": [
    "x = torch.empty(3) # vector, 1D\n",
    "print(x)"
   ]
  },
  {
   "cell_type": "code",
   "execution_count": 4,
   "id": "f64cb63d",
   "metadata": {},
   "outputs": [
    {
     "name": "stdout",
     "output_type": "stream",
     "text": [
      "tensor([[1.0267e-08, 1.0244e-11, 1.3237e+22],\n",
      "        [1.0503e-05, 3.3703e-06, 2.5812e-06]])\n"
     ]
    }
   ],
   "source": [
    "x = torch.empty(2,3) # matrix, 2D\n",
    "print(x)"
   ]
  },
  {
   "cell_type": "code",
   "execution_count": 5,
   "id": "5d6aa039",
   "metadata": {},
   "outputs": [
    {
     "name": "stdout",
     "output_type": "stream",
     "text": [
      "tensor([[[0., 0., 0.],\n",
      "         [0., 0., 0.]],\n",
      "\n",
      "        [[0., 0., 0.],\n",
      "         [0., 0., 0.]]])\n"
     ]
    }
   ],
   "source": [
    "x = torch.empty(2,2,3) # tensor, 3 dimensions\n",
    "print(x)"
   ]
  },
  {
   "cell_type": "code",
   "execution_count": 6,
   "id": "0e0b80f7",
   "metadata": {},
   "outputs": [
    {
     "name": "stdout",
     "output_type": "stream",
     "text": [
      "tensor([[[[9.9184e-39, 9.0000e-39, 1.0561e-38],\n",
      "          [1.0653e-38, 4.1327e-39, 8.9082e-39]],\n",
      "\n",
      "         [[9.8265e-39, 9.4592e-39, 1.0561e-38],\n",
      "          [1.0653e-38, 1.0469e-38, 9.5510e-39]]],\n",
      "\n",
      "\n",
      "        [[[8.7245e-39, 9.6429e-39, 1.0286e-38],\n",
      "          [1.0653e-38, 9.5510e-39, 8.7245e-39]],\n",
      "\n",
      "         [[9.6429e-39, 9.6429e-39, 8.7245e-39],\n",
      "          [4.2246e-39, 1.1112e-38, 1.4013e-43]]]])\n"
     ]
    }
   ],
   "source": [
    "x = torch.empty(2,2,2,3) # tensor, 4 dimensions\n",
    "print(x)"
   ]
  },
  {
   "cell_type": "code",
   "execution_count": 7,
   "id": "4db45b54",
   "metadata": {},
   "outputs": [
    {
     "name": "stdout",
     "output_type": "stream",
     "text": [
      "tensor([[0.1664, 0.5345, 0.2196],\n",
      "        [0.6330, 0.6956, 0.9788],\n",
      "        [0.3007, 0.3985, 0.7791],\n",
      "        [0.0957, 0.6831, 0.8018],\n",
      "        [0.7177, 0.2977, 0.0433]])\n"
     ]
    }
   ],
   "source": [
    "# torch.rand(size): random numbers [0, 1]\n",
    "x = torch.rand(5, 3)\n",
    "print(x)"
   ]
  },
  {
   "cell_type": "code",
   "execution_count": 8,
   "id": "724043b1",
   "metadata": {},
   "outputs": [
    {
     "name": "stdout",
     "output_type": "stream",
     "text": [
      "tensor([[0., 0., 0.],\n",
      "        [0., 0., 0.],\n",
      "        [0., 0., 0.],\n",
      "        [0., 0., 0.],\n",
      "        [0., 0., 0.]])\n"
     ]
    }
   ],
   "source": [
    "# torch.zeros(size), fill with 0\n",
    "x = torch.zeros(5, 3)\n",
    "print(x)"
   ]
  },
  {
   "cell_type": "code",
   "execution_count": 9,
   "id": "95d778eb",
   "metadata": {},
   "outputs": [
    {
     "name": "stdout",
     "output_type": "stream",
     "text": [
      "torch.Size([5, 3])\n"
     ]
    }
   ],
   "source": [
    "# check size\n",
    "print(x.size())"
   ]
  },
  {
   "cell_type": "code",
   "execution_count": 10,
   "id": "340cd45f",
   "metadata": {},
   "outputs": [
    {
     "name": "stdout",
     "output_type": "stream",
     "text": [
      "torch.float32\n"
     ]
    }
   ],
   "source": [
    "# check data type\n",
    "print(x.dtype)"
   ]
  },
  {
   "cell_type": "code",
   "execution_count": 11,
   "id": "1b6457ee",
   "metadata": {},
   "outputs": [
    {
     "name": "stdout",
     "output_type": "stream",
     "text": [
      "tensor([[0., 0., 0.],\n",
      "        [0., 0., 0.],\n",
      "        [0., 0., 0.],\n",
      "        [0., 0., 0.],\n",
      "        [0., 0., 0.]], dtype=torch.float16)\n"
     ]
    }
   ],
   "source": [
    "# specify types, float32 default\n",
    "x = torch.zeros(5, 3, dtype=torch.float16)\n",
    "print(x)"
   ]
  },
  {
   "cell_type": "code",
   "execution_count": 12,
   "id": "8a1140c0",
   "metadata": {},
   "outputs": [
    {
     "name": "stdout",
     "output_type": "stream",
     "text": [
      "torch.float16\n"
     ]
    }
   ],
   "source": [
    "# check type\n",
    "print(x.dtype)"
   ]
  },
  {
   "cell_type": "code",
   "execution_count": 13,
   "id": "cb4bf1da",
   "metadata": {},
   "outputs": [
    {
     "name": "stdout",
     "output_type": "stream",
     "text": [
      "torch.Size([2])\n"
     ]
    }
   ],
   "source": [
    "# construct from data\n",
    "x = torch.tensor([5.5, 3])\n",
    "print(x.size())"
   ]
  },
  {
   "cell_type": "code",
   "execution_count": 14,
   "id": "fe719c83",
   "metadata": {},
   "outputs": [
    {
     "name": "stdout",
     "output_type": "stream",
     "text": [
      "tensor([5.5000, 3.0000], requires_grad=True)\n"
     ]
    }
   ],
   "source": [
    "# requires_grad argument\n",
    "x = torch.tensor([5.5, 3], requires_grad=True)\n",
    "print (x)"
   ]
  },
  {
   "cell_type": "code",
   "execution_count": 15,
   "id": "b57e5998",
   "metadata": {},
   "outputs": [
    {
     "name": "stdout",
     "output_type": "stream",
     "text": [
      "Value of z: 17.0\n",
      "Gradient for x (requires_grad=True): tensor([1., 1.])\n",
      "Gradient for y (requires_grad=False): None\n"
     ]
    }
   ],
   "source": [
    "# Define tensors\n",
    "x = torch.tensor([5.5, 3], requires_grad=True)  # Tensor with gradient tracking\n",
    "y = torch.tensor([5.5, 3], requires_grad=False) # Tensor without gradient tracking\n",
    "\n",
    "# Perform an operation\n",
    "z = x.sum() + y.sum()\n",
    "print(\"Value of z:\", z.item())\n",
    "\n",
    "# Backward pass to compute gradients\n",
    "z.backward()\n",
    "\n",
    "# Print gradients\n",
    "print(\"Gradient for x (requires_grad=True):\", x.grad)\n",
    "print(\"Gradient for y (requires_grad=False):\", y.grad)"
   ]
  },
  {
   "cell_type": "code",
   "execution_count": 16,
   "id": "e6ee985a",
   "metadata": {},
   "outputs": [
    {
     "name": "stdout",
     "output_type": "stream",
     "text": [
      "tensor([[0.0738, 0.9370],\n",
      "        [0.2457, 0.6483]])\n",
      "tensor([[0.2270, 0.9069],\n",
      "        [0.4537, 0.1733]])\n",
      "tensor([[0.3008, 1.8439],\n",
      "        [0.6994, 0.8216]])\n"
     ]
    }
   ],
   "source": [
    "# Operations on Tensors\n",
    "y = torch.rand(2, 2)\n",
    "x = torch.rand(2, 2)\n",
    "print (x)\n",
    "print (y)\n",
    "# elementwise addition\n",
    "z = x + y\n",
    "# torch.add(x,y) \n",
    "print (z)"
   ]
  },
  {
   "cell_type": "code",
   "execution_count": 17,
   "id": "ff695b96",
   "metadata": {},
   "outputs": [
    {
     "name": "stdout",
     "output_type": "stream",
     "text": [
      "tensor([[0.2273, 0.9678],\n",
      "        [0.3143, 0.0087]])\n",
      "tensor([[0.1588, 0.5192],\n",
      "        [0.6675, 0.0072]])\n",
      "tensor([[ 0.0685,  0.4486],\n",
      "        [-0.3532,  0.0015]])\n"
     ]
    }
   ],
   "source": [
    "# subtraction\n",
    "y = torch.rand(2, 2)\n",
    "x = torch.rand(2, 2)\n",
    "print (x)\n",
    "print (y)\n",
    "z = x - y\n",
    "z = torch.sub(x, y)\n",
    "print (z)"
   ]
  },
  {
   "cell_type": "code",
   "execution_count": 18,
   "id": "4c2015d3",
   "metadata": {},
   "outputs": [
    {
     "name": "stdout",
     "output_type": "stream",
     "text": [
      "tensor([[0.1401, 0.9909],\n",
      "        [0.5694, 0.2946]])\n",
      "tensor([[0.6139, 0.9956],\n",
      "        [0.3378, 0.8887]])\n",
      "tensor([[0.0860, 0.9866],\n",
      "        [0.1923, 0.2618]])\n"
     ]
    }
   ],
   "source": [
    "# multiplication\n",
    "y = torch.rand(2, 2)\n",
    "x = torch.rand(2, 2)\n",
    "print (x)\n",
    "print (y)\n",
    "z = x * y\n",
    "z = torch.mul(x,y)\n",
    "print (z)\n"
   ]
  },
  {
   "cell_type": "code",
   "execution_count": 19,
   "id": "38d01bf3",
   "metadata": {},
   "outputs": [
    {
     "name": "stdout",
     "output_type": "stream",
     "text": [
      "tensor([[0.8876, 0.9513],\n",
      "        [0.2812, 0.7553]])\n",
      "tensor([[0.7502, 0.8675],\n",
      "        [0.9369, 0.9957]])\n",
      "tensor([[1.1832, 1.0966],\n",
      "        [0.3002, 0.7586]])\n"
     ]
    }
   ],
   "source": [
    "# division\n",
    "y = torch.rand(2, 2)\n",
    "x = torch.rand(2, 2)\n",
    "print (x)\n",
    "print (y)\n",
    "z1 = x / y\n",
    "z1 = torch.div(x,y)\n",
    "print(z1)"
   ]
  },
  {
   "cell_type": "code",
   "execution_count": 20,
   "id": "4458f271",
   "metadata": {},
   "outputs": [
    {
     "name": "stdout",
     "output_type": "stream",
     "text": [
      "Slicing\n",
      "tensor([[0.4165, 0.1840, 0.2761],\n",
      "        [0.3558, 0.9625, 0.7244],\n",
      "        [0.4170, 0.1676, 0.4285],\n",
      "        [0.0251, 0.6685, 0.8838],\n",
      "        [0.7731, 0.6377, 0.5933]])\n",
      "tensor([0.4165, 0.3558, 0.4170, 0.0251, 0.7731])\n",
      "tensor([0.3558, 0.9625, 0.7244])\n",
      "tensor(0.9625)\n",
      "0.962531566619873\n"
     ]
    }
   ],
   "source": [
    "#Slicing\n",
    "x = torch.rand(5,3)\n",
    "print(\"Slicing\")\n",
    "print(x)\n",
    "print(x[:, 0]) # all rows, column 0\n",
    "print(x[1, :]) # row 1, all columns\n",
    "print(x[1,1]) # element at 1, 1\n",
    "\n",
    "# Get the actual value if only 1 element in your tensor\n",
    "print(x[1,1].item())"
   ]
  },
  {
   "cell_type": "code",
   "execution_count": 21,
   "id": "5a89e5b9",
   "metadata": {},
   "outputs": [
    {
     "name": "stdout",
     "output_type": "stream",
     "text": [
      "tensor([[-1.3773, -0.1995, -1.1930,  0.0548],\n",
      "        [ 0.8647, -1.3404,  2.3077, -1.7224],\n",
      "        [-0.2230,  0.3279, -1.7396, -1.5859],\n",
      "        [-0.2461, -1.0504,  1.5725, -1.3133]])\n",
      "tensor([-1.3773, -0.1995, -1.1930,  0.0548,  0.8647, -1.3404,  2.3077, -1.7224,\n",
      "        -0.2230,  0.3279, -1.7396, -1.5859, -0.2461, -1.0504,  1.5725, -1.3133])\n",
      "tensor([[-1.3773, -0.1995, -1.1930,  0.0548,  0.8647, -1.3404,  2.3077, -1.7224],\n",
      "        [-0.2230,  0.3279, -1.7396, -1.5859, -0.2461, -1.0504,  1.5725, -1.3133]])\n",
      "torch.Size([4, 4]) torch.Size([16]) torch.Size([2, 8])\n"
     ]
    }
   ],
   "source": [
    "# Reshape with torch.view()\n",
    "x = torch.randn(4, 4)\n",
    "y = x.view(16)\n",
    "z = x.view(-1, 8)  # the size -1 is inferred from other dimensions\n",
    "print(x)\n",
    "print(y)\n",
    "print(z)\n",
    "# if -1 it pytorch will automatically determine the necessary size\n",
    "print(x.size(), y.size(), z.size())"
   ]
  },
  {
   "cell_type": "code",
   "execution_count": 22,
   "id": "dc6e0972",
   "metadata": {},
   "outputs": [
    {
     "name": "stdout",
     "output_type": "stream",
     "text": [
      "tensor([1., 1., 1., 1., 1.])\n",
      "[1. 1. 1. 1. 1.]\n",
      "<class 'numpy.ndarray'>\n",
      "tensor([2., 2., 2., 2., 2.])\n",
      "[2. 2. 2. 2. 2.]\n"
     ]
    }
   ],
   "source": [
    "# Numpy\n",
    "a = torch.ones(5)\n",
    "print(a)\n",
    "\n",
    "b = a.numpy()\n",
    "print(b)\n",
    "print(type(b))\n",
    "\n",
    "# If the Tensor is on the CPU, they will share the same memory location\n",
    "a.add_(1)\n",
    "print(a)\n",
    "print(b)"
   ]
  },
  {
   "cell_type": "code",
   "execution_count": 23,
   "id": "cb4d415c",
   "metadata": {},
   "outputs": [
    {
     "name": "stdout",
     "output_type": "stream",
     "text": [
      "Numpy to Torch\n",
      "[1. 1. 1. 1. 1.]\n",
      "tensor([1., 1., 1., 1., 1.], dtype=torch.float64)\n"
     ]
    }
   ],
   "source": [
    "# Numpy to Torch\n",
    "print(\"Numpy to Torch\")\n",
    "import numpy as np\n",
    "a = np.ones(5)\n",
    "b = torch.from_numpy(a)\n",
    "print(a)\n",
    "print(b)\n"
   ]
  },
  {
   "cell_type": "code",
   "execution_count": 24,
   "id": "92eb3b05",
   "metadata": {},
   "outputs": [
    {
     "name": "stdout",
     "output_type": "stream",
     "text": [
      "[2. 2. 2. 2. 2.]\n",
      "tensor([2., 2., 2., 2., 2.], dtype=torch.float64)\n"
     ]
    }
   ],
   "source": [
    "#They also share same memory\n",
    "a += 1\n",
    "print(a)\n",
    "print(b)"
   ]
  },
  {
   "cell_type": "code",
   "execution_count": 25,
   "id": "35cfb478",
   "metadata": {},
   "outputs": [
    {
     "name": "stdout",
     "output_type": "stream",
     "text": [
      "Autograd Package\n",
      "tensor(12., grad_fn=<SumBackward0>)\n",
      "tensor([3., 3., 3., 3.])\n",
      "tensor(8.4000, grad_fn=<SumBackward0>)\n",
      "tensor([3., 3., 3., 3.])\n",
      "tensor(4.8000, grad_fn=<SumBackward0>)\n",
      "tensor([3., 3., 3., 3.])\n",
      "tensor([0.1000, 0.1000, 0.1000, 0.1000], requires_grad=True)\n",
      "tensor(4.8000, grad_fn=<SumBackward0>)\n"
     ]
    }
   ],
   "source": [
    "# The Autograd Package\n",
    "print(\"Autograd Package\")\n",
    "weights = torch.ones(4, requires_grad=True)\n",
    "\n",
    "for epoch in range(3):\n",
    "    # just a dummy example\n",
    "    model_output = (weights*3).sum()\n",
    "    print(model_output)\n",
    "    \n",
    "    model_output.backward()\n",
    "    print(weights.grad)\n",
    "\n",
    "    with torch.no_grad():\n",
    "        weights -= 0.1 * weights.grad\n",
    "        \n",
    "\n",
    "    # this is important! It affects the final weights & output\n",
    "    weights.grad.zero_()\n",
    "\n",
    "print(weights)\n",
    "print(model_output)"
   ]
  }
 ],
 "metadata": {
  "kernelspec": {
   "display_name": "Python 3 (ipykernel)",
   "language": "python",
   "name": "python3"
  },
  "language_info": {
   "codemirror_mode": {
    "name": "ipython",
    "version": 3
   },
   "file_extension": ".py",
   "mimetype": "text/x-python",
   "name": "python",
   "nbconvert_exporter": "python",
   "pygments_lexer": "ipython3",
   "version": "3.12.7"
  }
 },
 "nbformat": 4,
 "nbformat_minor": 5
}
